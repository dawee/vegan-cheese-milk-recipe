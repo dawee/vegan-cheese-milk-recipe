{
 "metadata": {
  "language_info": {
   "codemirror_mode": {
    "name": "ipython",
    "version": 3
   },
   "file_extension": ".py",
   "mimetype": "text/x-python",
   "name": "python",
   "nbconvert_exporter": "python",
   "pygments_lexer": "ipython3",
   "version": "3.9.0-final"
  },
  "orig_nbformat": 2,
  "kernelspec": {
   "name": "python3",
   "display_name": "Python 3.9.0 64-bit",
   "metadata": {
    "interpreter": {
     "hash": "018df73ee3aff28fe4df1c7118db1967a509574c263c597c07ec386aba453d6e"
    }
   }
  }
 },
 "nbformat": 4,
 "nbformat_minor": 2,
 "cells": [
  {
   "cell_type": "code",
   "execution_count": 1,
   "metadata": {},
   "outputs": [],
   "source": [
    "import sys\n",
    "\n",
    "def cup_to_ml(cups):\n",
    "    return cups * 237\n",
    "\n",
    "def gallon_to_ml(gallons):\n",
    "    return gallons * 3785\n",
    "\n",
    "\n",
    "# https://nutritiondata.self.com/facts/dairy-and-egg-products/69/2\n",
    "whole_cow_milk = {\n",
    "    \"volume\": cup_to_ml(1),\n",
    "    \"weight\": 244,\n",
    "    \"proteins_weight\": 7.9,\n",
    "    \"fat_weight\": 7.9,\n",
    "    \"sugars_weight\": 12.8,\n",
    "    \"sweetness\": 0.4\n",
    "}\n",
    "\n",
    "# https://nutritiondata.self.com/facts/legumes-and-legume-products/4448/2\n",
    "peanuts = {\n",
    "    \"weight\": 28,\n",
    "    \"proteins_weight\": 7,\n",
    "    \"fat_weight\": 11,\n",
    "    \"sugars_weight\": 0\n",
    "}\n",
    "\n",
    "# https://yupik.com/fr/organic-soy-beans-raw-p30090\n",
    "soy_beans = {\n",
    "    \"weight\": 35,\n",
    "    \"proteins_weight\": 13,\n",
    "    \"fat_weight\": 7,\n",
    "    \"sugars_weight\": 0\n",
    "}\n",
    "\n",
    "expected_protein_fat_ratio = whole_cow_milk[\"proteins_weight\"] / whole_cow_milk[\"fat_weight\"]\n",
    "computed_protein_fat_ratio = 0\n",
    "computed_peanuts_ratio = 0\n",
    "computed_soy_beans_ratio = 0\n",
    "computed_proteins_weight = 0\n",
    "\n",
    "for peanut_permille_ratio in range(1, 1000, 1):\n",
    "    peanut_ratio = peanut_permille_ratio / 1000.0\n",
    "    soy_beans_ratio = 1 - peanut_ratio\n",
    "    proteins_weight = peanut_ratio * peanuts[\"proteins_weight\"] + soy_beans_ratio * soy_beans[\"proteins_weight\"]\n",
    "    fat_weight = peanut_ratio * peanuts[\"fat_weight\"] + soy_beans_ratio * soy_beans[\"fat_weight\"]\n",
    "    current_protein_fat_ratio = proteins_weight / fat_weight\n",
    "    \n",
    "    if abs(current_protein_fat_ratio - expected_protein_fat_ratio) < abs(computed_protein_fat_ratio - expected_protein_fat_ratio):\n",
    "        computed_protein_fat_ratio = current_protein_fat_ratio\n",
    "        computed_peanuts_ratio = peanut_ratio\n",
    "        computed_soy_beans_ratio = soy_beans_ratio\n",
    "        computed_proteins_weight = proteins_weight"
   ]
  },
  {
   "cell_type": "code",
   "execution_count": 3,
   "metadata": {},
   "outputs": [
    {
     "output_type": "execute_result",
     "data": {
      "text/plain": [
       "0.6"
      ]
     },
     "metadata": {},
     "execution_count": 3
    }
   ],
   "source": [
    "computed_peanuts_ratio"
   ]
  },
  {
   "cell_type": "code",
   "execution_count": 6,
   "metadata": {},
   "outputs": [
    {
     "output_type": "stream",
     "name": "stdout",
     "text": [
      "For an equivalent of 2 gallons of whole milk\nExpected proteins: 252.33333333333334g, fat: 252.33333333333334g, sugars: 163.53755274261604g\n\nIngredients:\n - peanuts: 451.0g\n - soy beans: 375.8g\n - sugar: 163.5g\n - water: 7.6L\n\nResult proteins: 252.33333333333331g, fat: 252.33333333333331g, sugars: 163.53755274261604g\n"
     ]
    }
   ],
   "source": [
    "GALLONS = 2 # For 2 Gallons of milk\n",
    "\n",
    "required_milk_volume = gallon_to_ml(GALLONS)\n",
    "\n",
    "print(\"For an equivalent of {0} gallons of whole milk\".format(GALLONS))\n",
    "\n",
    "multiplier = required_milk_volume / whole_cow_milk[\"volume\"]\n",
    "target_proteins_weight = whole_cow_milk[\"proteins_weight\"] * multiplier\n",
    "target_fat_weight = whole_cow_milk[\"fat_weight\"] * multiplier\n",
    "target_sugar_weight = whole_cow_milk[\"sugars_weight\"] * multiplier * whole_cow_milk[\"sweetness\"]\n",
    "\n",
    "print(\"Expected proteins: {p}g, fat: {f}g, sugars: {s}g\".format(p=target_proteins_weight, f=target_fat_weight, s=target_sugar_weight))\n",
    "\n",
    "ingredients_multiplier = target_proteins_weight / computed_proteins_weight\n",
    "final_peanuts_ratio = computed_peanuts_ratio * ingredients_multiplier\n",
    "final_soy_beans_ratio = computed_soy_beans_ratio * ingredients_multiplier\n",
    "added_sugars = target_sugar_weight - (final_peanuts_ratio * peanuts[\"sugars_weight\"] + final_soy_beans_ratio * soy_beans[\"sugars_weight\"])\n",
    "\n",
    "print(\"\"\"\n",
    "Ingredients:\n",
    " - peanuts: {peanuts:.1f}g\n",
    " - soy beans: {soy_beans:.1f}g\n",
    " - sugar: {sugar:.1f}g\n",
    " - water: {water:.1f}L\n",
    "\"\"\".format(\n",
    "    peanuts=final_peanuts_ratio * peanuts[\"weight\"],\n",
    "    soy_beans=final_soy_beans_ratio * soy_beans[\"weight\"],\n",
    "    sugar=added_sugars,\n",
    "    water=required_milk_volume / 1000.0))\n",
    "\n",
    "print(\"Result proteins: {p}g, fat: {f}g, sugars: {s}g\".format(\n",
    "    p=final_peanuts_ratio * peanuts[\"proteins_weight\"] + final_soy_beans_ratio * soy_beans[\"proteins_weight\"],\n",
    "    f=final_peanuts_ratio * peanuts[\"fat_weight\"] + final_soy_beans_ratio * soy_beans[\"fat_weight\"],\n",
    "    s=added_sugars + final_peanuts_ratio * peanuts[\"sugars_weight\"] + final_soy_beans_ratio * soy_beans[\"sugars_weight\"]))\n"
   ]
  },
  {
   "cell_type": "code",
   "execution_count": null,
   "metadata": {},
   "outputs": [],
   "source": []
  }
 ]
}